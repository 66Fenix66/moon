{
  "nbformat": 4,
  "nbformat_minor": 0,
  "metadata": {
    "colab": {
      "name": "Untitled3.ipynb",
      "provenance": [],
      "authorship_tag": "ABX9TyM6nNi+CgGY6hcAa4rI68hF",
      "include_colab_link": true
    },
    "kernelspec": {
      "name": "python3",
      "display_name": "Python 3"
    }
  },
  "cells": [
    {
      "cell_type": "markdown",
      "metadata": {
        "id": "view-in-github",
        "colab_type": "text"
      },
      "source": [
        "<a href=\"https://colab.research.google.com/github/66Fenix66/moon/blob/main/Untitled3.ipynb\" target=\"_parent\"><img src=\"https://colab.research.google.com/assets/colab-badge.svg\" alt=\"Open In Colab\"/></a>"
      ]
    },
    {
      "cell_type": "code",
      "metadata": {
        "id": "kaivFl8WvoN4"
      },
      "source": [
        "from sklearn import tree\r\n",
        "import pandas as pd\r\n",
        "import numpy as np\r\n",
        "import matplotlib as plt\r\n",
        "from google.colab import files\r\n",
        "from sklearn.model_selection import train_test_split\r\n",
        "import numpy as np\r\n",
        "from sklearn.model_selection import GridSearchCV\r\n",
        "from sklearn.ensemble import RandomForestClassifier\r\n",
        "from sklearn import metrics"
      ],
      "execution_count": 1,
      "outputs": []
    },
    {
      "cell_type": "code",
      "metadata": {
        "colab": {
          "resources": {
            "http://localhost:8080/nbextensions/google.colab/files.js": {
              "data": "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",
              "ok": true,
              "headers": [
                [
                  "content-type",
                  "application/javascript"
                ]
              ],
              "status": 200,
              "status_text": ""
            }
          },
          "base_uri": "https://localhost:8080/",
          "height": 109
        },
        "id": "SWbLDzVhdBCf",
        "outputId": "3cd7a63c-9002-40b2-bdbd-0472ca511c78"
      },
      "source": [
        "files.upload()"
      ],
      "execution_count": 3,
      "outputs": [
        {
          "output_type": "display_data",
          "data": {
            "text/html": [
              "\n",
              "     <input type=\"file\" id=\"files-f69ddd3f-46f9-48d3-8b50-00dfee255b05\" name=\"files[]\" multiple disabled\n",
              "        style=\"border:none\" />\n",
              "     <output id=\"result-f69ddd3f-46f9-48d3-8b50-00dfee255b05\">\n",
              "      Upload widget is only available when the cell has been executed in the\n",
              "      current browser session. Please rerun this cell to enable.\n",
              "      </output>\n",
              "      <script src=\"/nbextensions/google.colab/files.js\"></script> "
            ],
            "text/plain": [
              "<IPython.core.display.HTML object>"
            ]
          },
          "metadata": {
            "tags": []
          }
        },
        {
          "output_type": "stream",
          "text": [
            "Saving tips.csv to tips.csv\n"
          ],
          "name": "stdout"
        },
        {
          "output_type": "execute_result",
          "data": {
            "text/plain": [
              "{'tips.csv': b'total_bill,tip,sex,smoker,day,time,size\\n16.99,1.01,Female,No,Sun,Dinner,2\\n10.34,1.66,Male,No,Sun,Dinner,3\\n21.01,3.5,Male,No,Sun,Dinner,3\\n23.68,3.31,Male,No,Sun,Dinner,2\\n24.59,3.61,Female,No,Sun,Dinner,4\\n25.29,4.71,Male,No,Sun,Dinner,4\\n8.77,2.0,Male,No,Sun,Dinner,2\\n26.88,3.12,Male,No,Sun,Dinner,4\\n15.04,1.96,Male,No,Sun,Dinner,2\\n14.78,3.23,Male,No,Sun,Dinner,2\\n10.27,1.71,Male,No,Sun,Dinner,2\\n35.26,5.0,Female,No,Sun,Dinner,4\\n15.42,1.57,Male,No,Sun,Dinner,2\\n18.43,3.0,Male,No,Sun,Dinner,4\\n14.83,3.02,Female,No,Sun,Dinner,2\\n21.58,3.92,Male,No,Sun,Dinner,2\\n10.33,1.67,Female,No,Sun,Dinner,3\\n16.29,3.71,Male,No,Sun,Dinner,3\\n16.97,3.5,Female,No,Sun,Dinner,3\\n20.65,3.35,Male,No,Sat,Dinner,3\\n17.92,4.08,Male,No,Sat,Dinner,2\\n20.29,2.75,Female,No,Sat,Dinner,2\\n15.77,2.23,Female,No,Sat,Dinner,2\\n39.42,7.58,Male,No,Sat,Dinner,4\\n19.82,3.18,Male,No,Sat,Dinner,2\\n17.81,2.34,Male,No,Sat,Dinner,4\\n13.37,2.0,Male,No,Sat,Dinner,2\\n12.69,2.0,Male,No,Sat,Dinner,2\\n21.7,4.3,Male,No,Sat,Dinner,2\\n19.65,3.0,Female,No,Sat,Dinner,2\\n9.55,1.45,Male,No,Sat,Dinner,2\\n18.35,2.5,Male,No,Sat,Dinner,4\\n15.06,3.0,Female,No,Sat,Dinner,2\\n20.69,2.45,Female,No,Sat,Dinner,4\\n17.78,3.27,Male,No,Sat,Dinner,2\\n24.06,3.6,Male,No,Sat,Dinner,3\\n16.31,2.0,Male,No,Sat,Dinner,3\\n16.93,3.07,Female,No,Sat,Dinner,3\\n18.69,2.31,Male,No,Sat,Dinner,3\\n31.27,5.0,Male,No,Sat,Dinner,3\\n16.04,2.24,Male,No,Sat,Dinner,3\\n17.46,2.54,Male,No,Sun,Dinner,2\\n13.94,3.06,Male,No,Sun,Dinner,2\\n9.68,1.32,Male,No,Sun,Dinner,2\\n30.4,5.6,Male,No,Sun,Dinner,4\\n18.29,3.0,Male,No,Sun,Dinner,2\\n22.23,5.0,Male,No,Sun,Dinner,2\\n32.4,6.0,Male,No,Sun,Dinner,4\\n28.55,2.05,Male,No,Sun,Dinner,3\\n18.04,3.0,Male,No,Sun,Dinner,2\\n12.54,2.5,Male,No,Sun,Dinner,2\\n10.29,2.6,Female,No,Sun,Dinner,2\\n34.81,5.2,Female,No,Sun,Dinner,4\\n9.94,1.56,Male,No,Sun,Dinner,2\\n25.56,4.34,Male,No,Sun,Dinner,4\\n19.49,3.51,Male,No,Sun,Dinner,2\\n38.01,3.0,Male,Yes,Sat,Dinner,4\\n26.41,1.5,Female,No,Sat,Dinner,2\\n11.24,1.76,Male,Yes,Sat,Dinner,2\\n48.27,6.73,Male,No,Sat,Dinner,4\\n20.29,3.21,Male,Yes,Sat,Dinner,2\\n13.81,2.0,Male,Yes,Sat,Dinner,2\\n11.02,1.98,Male,Yes,Sat,Dinner,2\\n18.29,3.76,Male,Yes,Sat,Dinner,4\\n17.59,2.64,Male,No,Sat,Dinner,3\\n20.08,3.15,Male,No,Sat,Dinner,3\\n16.45,2.47,Female,No,Sat,Dinner,2\\n3.07,1.0,Female,Yes,Sat,Dinner,1\\n20.23,2.01,Male,No,Sat,Dinner,2\\n15.01,2.09,Male,Yes,Sat,Dinner,2\\n12.02,1.97,Male,No,Sat,Dinner,2\\n17.07,3.0,Female,No,Sat,Dinner,3\\n26.86,3.14,Female,Yes,Sat,Dinner,2\\n25.28,5.0,Female,Yes,Sat,Dinner,2\\n14.73,2.2,Female,No,Sat,Dinner,2\\n10.51,1.25,Male,No,Sat,Dinner,2\\n17.92,3.08,Male,Yes,Sat,Dinner,2\\n27.2,4.0,Male,No,Thur,Lunch,4\\n22.76,3.0,Male,No,Thur,Lunch,2\\n17.29,2.71,Male,No,Thur,Lunch,2\\n19.44,3.0,Male,Yes,Thur,Lunch,2\\n16.66,3.4,Male,No,Thur,Lunch,2\\n10.07,1.83,Female,No,Thur,Lunch,1\\n32.68,5.0,Male,Yes,Thur,Lunch,2\\n15.98,2.03,Male,No,Thur,Lunch,2\\n34.83,5.17,Female,No,Thur,Lunch,4\\n13.03,2.0,Male,No,Thur,Lunch,2\\n18.28,4.0,Male,No,Thur,Lunch,2\\n24.71,5.85,Male,No,Thur,Lunch,2\\n21.16,3.0,Male,No,Thur,Lunch,2\\n28.97,3.0,Male,Yes,Fri,Dinner,2\\n22.49,3.5,Male,No,Fri,Dinner,2\\n5.75,1.0,Female,Yes,Fri,Dinner,2\\n16.32,4.3,Female,Yes,Fri,Dinner,2\\n22.75,3.25,Female,No,Fri,Dinner,2\\n40.17,4.73,Male,Yes,Fri,Dinner,4\\n27.28,4.0,Male,Yes,Fri,Dinner,2\\n12.03,1.5,Male,Yes,Fri,Dinner,2\\n21.01,3.0,Male,Yes,Fri,Dinner,2\\n12.46,1.5,Male,No,Fri,Dinner,2\\n11.35,2.5,Female,Yes,Fri,Dinner,2\\n15.38,3.0,Female,Yes,Fri,Dinner,2\\n44.3,2.5,Female,Yes,Sat,Dinner,3\\n22.42,3.48,Female,Yes,Sat,Dinner,2\\n20.92,4.08,Female,No,Sat,Dinner,2\\n15.36,1.64,Male,Yes,Sat,Dinner,2\\n20.49,4.06,Male,Yes,Sat,Dinner,2\\n25.21,4.29,Male,Yes,Sat,Dinner,2\\n18.24,3.76,Male,No,Sat,Dinner,2\\n14.31,4.0,Female,Yes,Sat,Dinner,2\\n14.0,3.0,Male,No,Sat,Dinner,2\\n7.25,1.0,Female,No,Sat,Dinner,1\\n38.07,4.0,Male,No,Sun,Dinner,3\\n23.95,2.55,Male,No,Sun,Dinner,2\\n25.71,4.0,Female,No,Sun,Dinner,3\\n17.31,3.5,Female,No,Sun,Dinner,2\\n29.93,5.07,Male,No,Sun,Dinner,4\\n10.65,1.5,Female,No,Thur,Lunch,2\\n12.43,1.8,Female,No,Thur,Lunch,2\\n24.08,2.92,Female,No,Thur,Lunch,4\\n11.69,2.31,Male,No,Thur,Lunch,2\\n13.42,1.68,Female,No,Thur,Lunch,2\\n14.26,2.5,Male,No,Thur,Lunch,2\\n15.95,2.0,Male,No,Thur,Lunch,2\\n12.48,2.52,Female,No,Thur,Lunch,2\\n29.8,4.2,Female,No,Thur,Lunch,6\\n8.52,1.48,Male,No,Thur,Lunch,2\\n14.52,2.0,Female,No,Thur,Lunch,2\\n11.38,2.0,Female,No,Thur,Lunch,2\\n22.82,2.18,Male,No,Thur,Lunch,3\\n19.08,1.5,Male,No,Thur,Lunch,2\\n20.27,2.83,Female,No,Thur,Lunch,2\\n11.17,1.5,Female,No,Thur,Lunch,2\\n12.26,2.0,Female,No,Thur,Lunch,2\\n18.26,3.25,Female,No,Thur,Lunch,2\\n8.51,1.25,Female,No,Thur,Lunch,2\\n10.33,2.0,Female,No,Thur,Lunch,2\\n14.15,2.0,Female,No,Thur,Lunch,2\\n16.0,2.0,Male,Yes,Thur,Lunch,2\\n13.16,2.75,Female,No,Thur,Lunch,2\\n17.47,3.5,Female,No,Thur,Lunch,2\\n34.3,6.7,Male,No,Thur,Lunch,6\\n41.19,5.0,Male,No,Thur,Lunch,5\\n27.05,5.0,Female,No,Thur,Lunch,6\\n16.43,2.3,Female,No,Thur,Lunch,2\\n8.35,1.5,Female,No,Thur,Lunch,2\\n18.64,1.36,Female,No,Thur,Lunch,3\\n11.87,1.63,Female,No,Thur,Lunch,2\\n9.78,1.73,Male,No,Thur,Lunch,2\\n7.51,2.0,Male,No,Thur,Lunch,2\\n14.07,2.5,Male,No,Sun,Dinner,2\\n13.13,2.0,Male,No,Sun,Dinner,2\\n17.26,2.74,Male,No,Sun,Dinner,3\\n24.55,2.0,Male,No,Sun,Dinner,4\\n19.77,2.0,Male,No,Sun,Dinner,4\\n29.85,5.14,Female,No,Sun,Dinner,5\\n48.17,5.0,Male,No,Sun,Dinner,6\\n25.0,3.75,Female,No,Sun,Dinner,4\\n13.39,2.61,Female,No,Sun,Dinner,2\\n16.49,2.0,Male,No,Sun,Dinner,4\\n21.5,3.5,Male,No,Sun,Dinner,4\\n12.66,2.5,Male,No,Sun,Dinner,2\\n16.21,2.0,Female,No,Sun,Dinner,3\\n13.81,2.0,Male,No,Sun,Dinner,2\\n17.51,3.0,Female,Yes,Sun,Dinner,2\\n24.52,3.48,Male,No,Sun,Dinner,3\\n20.76,2.24,Male,No,Sun,Dinner,2\\n31.71,4.5,Male,No,Sun,Dinner,4\\n10.59,1.61,Female,Yes,Sat,Dinner,2\\n10.63,2.0,Female,Yes,Sat,Dinner,2\\n50.81,10.0,Male,Yes,Sat,Dinner,3\\n15.81,3.16,Male,Yes,Sat,Dinner,2\\n7.25,5.15,Male,Yes,Sun,Dinner,2\\n31.85,3.18,Male,Yes,Sun,Dinner,2\\n16.82,4.0,Male,Yes,Sun,Dinner,2\\n32.9,3.11,Male,Yes,Sun,Dinner,2\\n17.89,2.0,Male,Yes,Sun,Dinner,2\\n14.48,2.0,Male,Yes,Sun,Dinner,2\\n9.6,4.0,Female,Yes,Sun,Dinner,2\\n34.63,3.55,Male,Yes,Sun,Dinner,2\\n34.65,3.68,Male,Yes,Sun,Dinner,4\\n23.33,5.65,Male,Yes,Sun,Dinner,2\\n45.35,3.5,Male,Yes,Sun,Dinner,3\\n23.17,6.5,Male,Yes,Sun,Dinner,4\\n40.55,3.0,Male,Yes,Sun,Dinner,2\\n20.69,5.0,Male,No,Sun,Dinner,5\\n20.9,3.5,Female,Yes,Sun,Dinner,3\\n30.46,2.0,Male,Yes,Sun,Dinner,5\\n18.15,3.5,Female,Yes,Sun,Dinner,3\\n23.1,4.0,Male,Yes,Sun,Dinner,3\\n15.69,1.5,Male,Yes,Sun,Dinner,2\\n19.81,4.19,Female,Yes,Thur,Lunch,2\\n28.44,2.56,Male,Yes,Thur,Lunch,2\\n15.48,2.02,Male,Yes,Thur,Lunch,2\\n16.58,4.0,Male,Yes,Thur,Lunch,2\\n7.56,1.44,Male,No,Thur,Lunch,2\\n10.34,2.0,Male,Yes,Thur,Lunch,2\\n43.11,5.0,Female,Yes,Thur,Lunch,4\\n13.0,2.0,Female,Yes,Thur,Lunch,2\\n13.51,2.0,Male,Yes,Thur,Lunch,2\\n18.71,4.0,Male,Yes,Thur,Lunch,3\\n12.74,2.01,Female,Yes,Thur,Lunch,2\\n13.0,2.0,Female,Yes,Thur,Lunch,2\\n16.4,2.5,Female,Yes,Thur,Lunch,2\\n20.53,4.0,Male,Yes,Thur,Lunch,4\\n16.47,3.23,Female,Yes,Thur,Lunch,3\\n26.59,3.41,Male,Yes,Sat,Dinner,3\\n38.73,3.0,Male,Yes,Sat,Dinner,4\\n24.27,2.03,Male,Yes,Sat,Dinner,2\\n12.76,2.23,Female,Yes,Sat,Dinner,2\\n30.06,2.0,Male,Yes,Sat,Dinner,3\\n25.89,5.16,Male,Yes,Sat,Dinner,4\\n48.33,9.0,Male,No,Sat,Dinner,4\\n13.27,2.5,Female,Yes,Sat,Dinner,2\\n28.17,6.5,Female,Yes,Sat,Dinner,3\\n12.9,1.1,Female,Yes,Sat,Dinner,2\\n28.15,3.0,Male,Yes,Sat,Dinner,5\\n11.59,1.5,Male,Yes,Sat,Dinner,2\\n7.74,1.44,Male,Yes,Sat,Dinner,2\\n30.14,3.09,Female,Yes,Sat,Dinner,4\\n12.16,2.2,Male,Yes,Fri,Lunch,2\\n13.42,3.48,Female,Yes,Fri,Lunch,2\\n8.58,1.92,Male,Yes,Fri,Lunch,1\\n15.98,3.0,Female,No,Fri,Lunch,3\\n13.42,1.58,Male,Yes,Fri,Lunch,2\\n16.27,2.5,Female,Yes,Fri,Lunch,2\\n10.09,2.0,Female,Yes,Fri,Lunch,2\\n20.45,3.0,Male,No,Sat,Dinner,4\\n13.28,2.72,Male,No,Sat,Dinner,2\\n22.12,2.88,Female,Yes,Sat,Dinner,2\\n24.01,2.0,Male,Yes,Sat,Dinner,4\\n15.69,3.0,Male,Yes,Sat,Dinner,3\\n11.61,3.39,Male,No,Sat,Dinner,2\\n10.77,1.47,Male,No,Sat,Dinner,2\\n15.53,3.0,Male,Yes,Sat,Dinner,2\\n10.07,1.25,Male,No,Sat,Dinner,2\\n12.6,1.0,Male,Yes,Sat,Dinner,2\\n32.83,1.17,Male,Yes,Sat,Dinner,2\\n35.83,4.67,Female,No,Sat,Dinner,3\\n29.03,5.92,Male,No,Sat,Dinner,3\\n27.18,2.0,Female,Yes,Sat,Dinner,2\\n22.67,2.0,Male,Yes,Sat,Dinner,2\\n17.82,1.75,Male,No,Sat,Dinner,2\\n18.78,3.0,Female,No,Thur,Dinner,2\\n'}"
            ]
          },
          "metadata": {
            "tags": []
          },
          "execution_count": 3
        }
      ]
    },
    {
      "cell_type": "code",
      "metadata": {
        "id": "9qxeKJKtv3Ym"
      },
      "source": [
        "\r\n",
        "\r\n",
        "tips = pd.read_csv(r'tips.csv')"
      ],
      "execution_count": 52,
      "outputs": []
    },
    {
      "cell_type": "code",
      "metadata": {
        "colab": {
          "base_uri": "https://localhost:8080/",
          "height": 204
        },
        "id": "UKBQlBjUwC9V",
        "outputId": "ac2ac423-2138-424c-c207-4c4ef2ad0f06"
      },
      "source": [
        "tips.head()"
      ],
      "execution_count": 53,
      "outputs": [
        {
          "output_type": "execute_result",
          "data": {
            "text/html": [
              "<div>\n",
              "<style scoped>\n",
              "    .dataframe tbody tr th:only-of-type {\n",
              "        vertical-align: middle;\n",
              "    }\n",
              "\n",
              "    .dataframe tbody tr th {\n",
              "        vertical-align: top;\n",
              "    }\n",
              "\n",
              "    .dataframe thead th {\n",
              "        text-align: right;\n",
              "    }\n",
              "</style>\n",
              "<table border=\"1\" class=\"dataframe\">\n",
              "  <thead>\n",
              "    <tr style=\"text-align: right;\">\n",
              "      <th></th>\n",
              "      <th>total_bill</th>\n",
              "      <th>tip</th>\n",
              "      <th>sex</th>\n",
              "      <th>smoker</th>\n",
              "      <th>day</th>\n",
              "      <th>time</th>\n",
              "      <th>size</th>\n",
              "    </tr>\n",
              "  </thead>\n",
              "  <tbody>\n",
              "    <tr>\n",
              "      <th>0</th>\n",
              "      <td>16.99</td>\n",
              "      <td>1.01</td>\n",
              "      <td>Female</td>\n",
              "      <td>No</td>\n",
              "      <td>Sun</td>\n",
              "      <td>Dinner</td>\n",
              "      <td>2</td>\n",
              "    </tr>\n",
              "    <tr>\n",
              "      <th>1</th>\n",
              "      <td>10.34</td>\n",
              "      <td>1.66</td>\n",
              "      <td>Male</td>\n",
              "      <td>No</td>\n",
              "      <td>Sun</td>\n",
              "      <td>Dinner</td>\n",
              "      <td>3</td>\n",
              "    </tr>\n",
              "    <tr>\n",
              "      <th>2</th>\n",
              "      <td>21.01</td>\n",
              "      <td>3.50</td>\n",
              "      <td>Male</td>\n",
              "      <td>No</td>\n",
              "      <td>Sun</td>\n",
              "      <td>Dinner</td>\n",
              "      <td>3</td>\n",
              "    </tr>\n",
              "    <tr>\n",
              "      <th>3</th>\n",
              "      <td>23.68</td>\n",
              "      <td>3.31</td>\n",
              "      <td>Male</td>\n",
              "      <td>No</td>\n",
              "      <td>Sun</td>\n",
              "      <td>Dinner</td>\n",
              "      <td>2</td>\n",
              "    </tr>\n",
              "    <tr>\n",
              "      <th>4</th>\n",
              "      <td>24.59</td>\n",
              "      <td>3.61</td>\n",
              "      <td>Female</td>\n",
              "      <td>No</td>\n",
              "      <td>Sun</td>\n",
              "      <td>Dinner</td>\n",
              "      <td>4</td>\n",
              "    </tr>\n",
              "  </tbody>\n",
              "</table>\n",
              "</div>"
            ],
            "text/plain": [
              "   total_bill   tip     sex smoker  day    time  size\n",
              "0       16.99  1.01  Female     No  Sun  Dinner     2\n",
              "1       10.34  1.66    Male     No  Sun  Dinner     3\n",
              "2       21.01  3.50    Male     No  Sun  Dinner     3\n",
              "3       23.68  3.31    Male     No  Sun  Dinner     2\n",
              "4       24.59  3.61  Female     No  Sun  Dinner     4"
            ]
          },
          "metadata": {
            "tags": []
          },
          "execution_count": 53
        }
      ]
    },
    {
      "cell_type": "code",
      "metadata": {
        "id": "FJAgaRJFwD7k",
        "colab": {
          "base_uri": "https://localhost:8080/",
          "height": 297
        },
        "outputId": "65f1026a-e28f-452a-d23c-b68692558d8d"
      },
      "source": [
        " tips.describe()"
      ],
      "execution_count": 54,
      "outputs": [
        {
          "output_type": "execute_result",
          "data": {
            "text/html": [
              "<div>\n",
              "<style scoped>\n",
              "    .dataframe tbody tr th:only-of-type {\n",
              "        vertical-align: middle;\n",
              "    }\n",
              "\n",
              "    .dataframe tbody tr th {\n",
              "        vertical-align: top;\n",
              "    }\n",
              "\n",
              "    .dataframe thead th {\n",
              "        text-align: right;\n",
              "    }\n",
              "</style>\n",
              "<table border=\"1\" class=\"dataframe\">\n",
              "  <thead>\n",
              "    <tr style=\"text-align: right;\">\n",
              "      <th></th>\n",
              "      <th>total_bill</th>\n",
              "      <th>tip</th>\n",
              "      <th>size</th>\n",
              "    </tr>\n",
              "  </thead>\n",
              "  <tbody>\n",
              "    <tr>\n",
              "      <th>count</th>\n",
              "      <td>244.000000</td>\n",
              "      <td>244.000000</td>\n",
              "      <td>244.000000</td>\n",
              "    </tr>\n",
              "    <tr>\n",
              "      <th>mean</th>\n",
              "      <td>19.785943</td>\n",
              "      <td>2.998279</td>\n",
              "      <td>2.569672</td>\n",
              "    </tr>\n",
              "    <tr>\n",
              "      <th>std</th>\n",
              "      <td>8.902412</td>\n",
              "      <td>1.383638</td>\n",
              "      <td>0.951100</td>\n",
              "    </tr>\n",
              "    <tr>\n",
              "      <th>min</th>\n",
              "      <td>3.070000</td>\n",
              "      <td>1.000000</td>\n",
              "      <td>1.000000</td>\n",
              "    </tr>\n",
              "    <tr>\n",
              "      <th>25%</th>\n",
              "      <td>13.347500</td>\n",
              "      <td>2.000000</td>\n",
              "      <td>2.000000</td>\n",
              "    </tr>\n",
              "    <tr>\n",
              "      <th>50%</th>\n",
              "      <td>17.795000</td>\n",
              "      <td>2.900000</td>\n",
              "      <td>2.000000</td>\n",
              "    </tr>\n",
              "    <tr>\n",
              "      <th>75%</th>\n",
              "      <td>24.127500</td>\n",
              "      <td>3.562500</td>\n",
              "      <td>3.000000</td>\n",
              "    </tr>\n",
              "    <tr>\n",
              "      <th>max</th>\n",
              "      <td>50.810000</td>\n",
              "      <td>10.000000</td>\n",
              "      <td>6.000000</td>\n",
              "    </tr>\n",
              "  </tbody>\n",
              "</table>\n",
              "</div>"
            ],
            "text/plain": [
              "       total_bill         tip        size\n",
              "count  244.000000  244.000000  244.000000\n",
              "mean    19.785943    2.998279    2.569672\n",
              "std      8.902412    1.383638    0.951100\n",
              "min      3.070000    1.000000    1.000000\n",
              "25%     13.347500    2.000000    2.000000\n",
              "50%     17.795000    2.900000    2.000000\n",
              "75%     24.127500    3.562500    3.000000\n",
              "max     50.810000   10.000000    6.000000"
            ]
          },
          "metadata": {
            "tags": []
          },
          "execution_count": 54
        }
      ]
    },
    {
      "cell_type": "code",
      "metadata": {
        "id": "z0bsIYEgd-Uc",
        "colab": {
          "base_uri": "https://localhost:8080/"
        },
        "outputId": "9c8e21d3-6464-478c-ddc4-d164ef1ab8c5"
      },
      "source": [
        "tips.info()"
      ],
      "execution_count": 55,
      "outputs": [
        {
          "output_type": "stream",
          "text": [
            "<class 'pandas.core.frame.DataFrame'>\n",
            "RangeIndex: 244 entries, 0 to 243\n",
            "Data columns (total 7 columns):\n",
            " #   Column      Non-Null Count  Dtype  \n",
            "---  ------      --------------  -----  \n",
            " 0   total_bill  244 non-null    float64\n",
            " 1   tip         244 non-null    float64\n",
            " 2   sex         244 non-null    object \n",
            " 3   smoker      244 non-null    object \n",
            " 4   day         244 non-null    object \n",
            " 5   time        244 non-null    object \n",
            " 6   size        244 non-null    int64  \n",
            "dtypes: float64(2), int64(1), object(4)\n",
            "memory usage: 13.5+ KB\n"
          ],
          "name": "stdout"
        }
      ]
    },
    {
      "cell_type": "code",
      "metadata": {
        "id": "mTlC6Piq3Nos"
      },
      "source": [
        "tips['smoker'] = (tips['smoker'] == 'Yes').astype(int)\r\n",
        "tips = tips.rename({'sex': 'sex_female'}, axis=1) \r\n",
        "tips['sex_female'] = (tips['sex_female'] == \"Female\").astype(int)\r\n",
        "tips['time'] = tips['time'].replace({'Lunch': 0, 'Dinner': 1})\r\n",
        "tips['day'] = tips['day'].replace({'Thur': 0, 'Fri': 1, 'Sat': 2, 'Sun': 3})"
      ],
      "execution_count": 56,
      "outputs": []
    },
    {
      "cell_type": "code",
      "metadata": {
        "colab": {
          "base_uri": "https://localhost:8080/"
        },
        "id": "CJUMQ0iQLeuA",
        "outputId": "ffc9e862-6222-4450-c7b9-7dbf2b757fb8"
      },
      "source": [
        "tips.total_bill.value_counts()"
      ],
      "execution_count": 57,
      "outputs": [
        {
          "output_type": "execute_result",
          "data": {
            "text/plain": [
              "13.42    3\n",
              "10.33    2\n",
              "20.29    2\n",
              "18.29    2\n",
              "17.92    2\n",
              "        ..\n",
              "30.40    1\n",
              "26.59    1\n",
              "19.65    1\n",
              "9.55     1\n",
              "5.75     1\n",
              "Name: total_bill, Length: 229, dtype: int64"
            ]
          },
          "metadata": {
            "tags": []
          },
          "execution_count": 57
        }
      ]
    },
    {
      "cell_type": "code",
      "metadata": {
        "id": "ytn_92FtOYoU"
      },
      "source": [
        "\r\n",
        "conditions = [\r\n",
        "    (tips['total_bill'] < 5),\r\n",
        "    (tips['total_bill'] >= 5) & (tips['total_bill'] < 10),\r\n",
        "    (tips['total_bill'] >= 10) & (tips['total_bill'] < 15),\r\n",
        "    (tips['total_bill'] >= 15) & (tips['total_bill'] < 20),\r\n",
        "    (tips['total_bill'] >= 20) & (tips['total_bill'] < 25),\r\n",
        "    (tips['total_bill'] >= 25) & (tips['total_bill'] < 30),\r\n",
        "    (tips['total_bill'] >= 30) & (tips['total_bill'] < 35),\r\n",
        "    (tips['total_bill'] >= 35) & (tips['total_bill'] < 40),\r\n",
        "    (tips['total_bill'] >= 40) & (tips['total_bill'] < 45),\r\n",
        "    (tips['total_bill'] >= 40)]\r\n",
        "choices = ['5$ and less', '5$-10$(not included)', '10$-15$(not included)', '15$-20$(not included)', '20$-25$(not included)', '25$-30$(not included)', '30$-35$(not included)', '35$-40$(not included)', '40$-45$(not included)', '45$ and more']\r\n",
        "tips['bill'] = np.select(conditions, choices)\r\n",
        "\r\n"
      ],
      "execution_count": 58,
      "outputs": []
    },
    {
      "cell_type": "code",
      "metadata": {
        "colab": {
          "base_uri": "https://localhost:8080/"
        },
        "id": "GPFBJQSuP3cu",
        "outputId": "1dc5f470-2b7b-4cf8-efbd-8b88bfb00b2f"
      },
      "source": [
        "tips.tip.value_counts()"
      ],
      "execution_count": 59,
      "outputs": [
        {
          "output_type": "execute_result",
          "data": {
            "text/plain": [
              "2.00    33\n",
              "3.00    23\n",
              "4.00    12\n",
              "5.00    10\n",
              "2.50    10\n",
              "        ..\n",
              "2.83     1\n",
              "1.58     1\n",
              "3.71     1\n",
              "3.35     1\n",
              "2.18     1\n",
              "Name: tip, Length: 123, dtype: int64"
            ]
          },
          "metadata": {
            "tags": []
          },
          "execution_count": 59
        }
      ]
    },
    {
      "cell_type": "code",
      "metadata": {
        "id": "58SW4Je8Rl5P"
      },
      "source": [
        "conditions = [\r\n",
        "    \r\n",
        "    (tips['tip'] >= 1) & (tips['tip'] < 1.5),\r\n",
        "    (tips['tip'] >= 1.5) & (tips['tip'] < 2),\r\n",
        "    (tips['tip'] == 2),\r\n",
        "    (tips['tip'] > 2) & (tips['tip'] < 2.5),\r\n",
        "    (tips['tip'] >= 2.5) & (tips['tip'] < 3),\r\n",
        "    (tips['tip'] == 3),\r\n",
        "    (tips['tip'] > 3) & (tips['tip'] < 3.5),\r\n",
        "    (tips['tip'] >= 3.5) & (tips['tip'] < 4),\r\n",
        "    (tips['tip'] >= 4) & (tips['tip'] < 5),\r\n",
        "    (tips['tip'] >= 5)]\r\n",
        "choices = ['1$-1.5$(not included)', '1.5$-2$(not included)', '2$', '2$-2.5$(both not included)', '2.5$-3$(not included)', '3$', '3$-3.5$(both not included)', '3.5$-4$(not included)', '4$-5$(not included)', '5$ and more']\r\n",
        "tips['tips'] = np.select(conditions, choices)"
      ],
      "execution_count": 60,
      "outputs": []
    },
    {
      "cell_type": "code",
      "metadata": {
        "colab": {
          "base_uri": "https://localhost:8080/",
          "height": 204
        },
        "id": "jkS1BzcVUEtN",
        "outputId": "8aca0f88-b795-47db-c635-0fa0af0084a5"
      },
      "source": [
        "tips.head()"
      ],
      "execution_count": 61,
      "outputs": [
        {
          "output_type": "execute_result",
          "data": {
            "text/html": [
              "<div>\n",
              "<style scoped>\n",
              "    .dataframe tbody tr th:only-of-type {\n",
              "        vertical-align: middle;\n",
              "    }\n",
              "\n",
              "    .dataframe tbody tr th {\n",
              "        vertical-align: top;\n",
              "    }\n",
              "\n",
              "    .dataframe thead th {\n",
              "        text-align: right;\n",
              "    }\n",
              "</style>\n",
              "<table border=\"1\" class=\"dataframe\">\n",
              "  <thead>\n",
              "    <tr style=\"text-align: right;\">\n",
              "      <th></th>\n",
              "      <th>total_bill</th>\n",
              "      <th>tip</th>\n",
              "      <th>sex_female</th>\n",
              "      <th>smoker</th>\n",
              "      <th>day</th>\n",
              "      <th>time</th>\n",
              "      <th>size</th>\n",
              "      <th>bill</th>\n",
              "      <th>tips</th>\n",
              "    </tr>\n",
              "  </thead>\n",
              "  <tbody>\n",
              "    <tr>\n",
              "      <th>0</th>\n",
              "      <td>16.99</td>\n",
              "      <td>1.01</td>\n",
              "      <td>1</td>\n",
              "      <td>0</td>\n",
              "      <td>3</td>\n",
              "      <td>1</td>\n",
              "      <td>2</td>\n",
              "      <td>15$-20$(not included)</td>\n",
              "      <td>1$-1.5$(not included)</td>\n",
              "    </tr>\n",
              "    <tr>\n",
              "      <th>1</th>\n",
              "      <td>10.34</td>\n",
              "      <td>1.66</td>\n",
              "      <td>0</td>\n",
              "      <td>0</td>\n",
              "      <td>3</td>\n",
              "      <td>1</td>\n",
              "      <td>3</td>\n",
              "      <td>10$-15$(not included)</td>\n",
              "      <td>1.5$-2$(not included)</td>\n",
              "    </tr>\n",
              "    <tr>\n",
              "      <th>2</th>\n",
              "      <td>21.01</td>\n",
              "      <td>3.50</td>\n",
              "      <td>0</td>\n",
              "      <td>0</td>\n",
              "      <td>3</td>\n",
              "      <td>1</td>\n",
              "      <td>3</td>\n",
              "      <td>20$-25$(not included)</td>\n",
              "      <td>3.5$-4$(not included)</td>\n",
              "    </tr>\n",
              "    <tr>\n",
              "      <th>3</th>\n",
              "      <td>23.68</td>\n",
              "      <td>3.31</td>\n",
              "      <td>0</td>\n",
              "      <td>0</td>\n",
              "      <td>3</td>\n",
              "      <td>1</td>\n",
              "      <td>2</td>\n",
              "      <td>20$-25$(not included)</td>\n",
              "      <td>3$-3.5$(both not included)</td>\n",
              "    </tr>\n",
              "    <tr>\n",
              "      <th>4</th>\n",
              "      <td>24.59</td>\n",
              "      <td>3.61</td>\n",
              "      <td>1</td>\n",
              "      <td>0</td>\n",
              "      <td>3</td>\n",
              "      <td>1</td>\n",
              "      <td>4</td>\n",
              "      <td>20$-25$(not included)</td>\n",
              "      <td>3.5$-4$(not included)</td>\n",
              "    </tr>\n",
              "  </tbody>\n",
              "</table>\n",
              "</div>"
            ],
            "text/plain": [
              "   total_bill   tip  ...                   bill                        tips\n",
              "0       16.99  1.01  ...  15$-20$(not included)       1$-1.5$(not included)\n",
              "1       10.34  1.66  ...  10$-15$(not included)       1.5$-2$(not included)\n",
              "2       21.01  3.50  ...  20$-25$(not included)       3.5$-4$(not included)\n",
              "3       23.68  3.31  ...  20$-25$(not included)  3$-3.5$(both not included)\n",
              "4       24.59  3.61  ...  20$-25$(not included)       3.5$-4$(not included)\n",
              "\n",
              "[5 rows x 9 columns]"
            ]
          },
          "metadata": {
            "tags": []
          },
          "execution_count": 61
        }
      ]
    },
    {
      "cell_type": "code",
      "metadata": {
        "id": "VBh7tb7ZcOJm"
      },
      "source": [
        "clf = tree.DecisionTreeClassifier()"
      ],
      "execution_count": 62,
      "outputs": []
    },
    {
      "cell_type": "code",
      "metadata": {
        "id": "38_bHZBPZtEq"
      },
      "source": [
        "X, y = tips.drop(['total_bill', 'bill', 'tips'], axis=1), tips.bill"
      ],
      "execution_count": 63,
      "outputs": []
    },
    {
      "cell_type": "code",
      "metadata": {
        "id": "gZ5XtMQVcKeo"
      },
      "source": [
        "X_train, X_test, y_train, y_test = train_test_split(X, y, test_size = 0.2)"
      ],
      "execution_count": 64,
      "outputs": []
    },
    {
      "cell_type": "code",
      "metadata": {
        "colab": {
          "base_uri": "https://localhost:8080/"
        },
        "id": "qcm6-oiscivS",
        "outputId": "4d0e8c7b-dd8f-4be8-bfbe-eaf8d6abfca7"
      },
      "source": [
        "clf.fit(X_train, y_train)"
      ],
      "execution_count": 65,
      "outputs": [
        {
          "output_type": "execute_result",
          "data": {
            "text/plain": [
              "DecisionTreeClassifier(ccp_alpha=0.0, class_weight=None, criterion='gini',\n",
              "                       max_depth=None, max_features=None, max_leaf_nodes=None,\n",
              "                       min_impurity_decrease=0.0, min_impurity_split=None,\n",
              "                       min_samples_leaf=1, min_samples_split=2,\n",
              "                       min_weight_fraction_leaf=0.0, presort='deprecated',\n",
              "                       random_state=None, splitter='best')"
            ]
          },
          "metadata": {
            "tags": []
          },
          "execution_count": 65
        }
      ]
    },
    {
      "cell_type": "code",
      "metadata": {
        "colab": {
          "base_uri": "https://localhost:8080/"
        },
        "id": "NTr-yyzqcuYF",
        "outputId": "bfac3806-f867-4fed-cc16-a425a95fe528"
      },
      "source": [
        "clf.score(X_test, y_test)"
      ],
      "execution_count": 66,
      "outputs": [
        {
          "output_type": "execute_result",
          "data": {
            "text/plain": [
              "0.3673469387755102"
            ]
          },
          "metadata": {
            "tags": []
          },
          "execution_count": 66
        }
      ]
    },
    {
      "cell_type": "code",
      "metadata": {
        "colab": {
          "base_uri": "https://localhost:8080/"
        },
        "id": "7vKRDj4NcyVf",
        "outputId": "692f85f3-2980-4ead-f6bc-ecd005e70530"
      },
      "source": [
        "parameters = dict(criterion = ['entropy', 'gini'], max_depth = range(1,42))\r\n",
        "grid_clf = GridSearchCV(clf, parameters, cv=6)\r\n",
        "grid_clf.fit(X_train, y_train)"
      ],
      "execution_count": 67,
      "outputs": [
        {
          "output_type": "stream",
          "text": [
            "/usr/local/lib/python3.6/dist-packages/sklearn/model_selection/_split.py:667: UserWarning: The least populated class in y has only 1 members, which is less than n_splits=6.\n",
            "  % (min_groups, self.n_splits)), UserWarning)\n"
          ],
          "name": "stderr"
        },
        {
          "output_type": "execute_result",
          "data": {
            "text/plain": [
              "GridSearchCV(cv=6, error_score=nan,\n",
              "             estimator=DecisionTreeClassifier(ccp_alpha=0.0, class_weight=None,\n",
              "                                              criterion='gini', max_depth=None,\n",
              "                                              max_features=None,\n",
              "                                              max_leaf_nodes=None,\n",
              "                                              min_impurity_decrease=0.0,\n",
              "                                              min_impurity_split=None,\n",
              "                                              min_samples_leaf=1,\n",
              "                                              min_samples_split=2,\n",
              "                                              min_weight_fraction_leaf=0.0,\n",
              "                                              presort='deprecated',\n",
              "                                              random_state=None,\n",
              "                                              splitter='best'),\n",
              "             iid='deprecated', n_jobs=None,\n",
              "             param_grid={'criterion': ['entropy', 'gini'],\n",
              "                         'max_depth': range(1, 42)},\n",
              "             pre_dispatch='2*n_jobs', refit=True, return_train_score=False,\n",
              "             scoring=None, verbose=0)"
            ]
          },
          "metadata": {
            "tags": []
          },
          "execution_count": 67
        }
      ]
    },
    {
      "cell_type": "code",
      "metadata": {
        "colab": {
          "base_uri": "https://localhost:8080/"
        },
        "id": "8cJRz5OBeHUJ",
        "outputId": "6d0ab33e-96f3-4044-efaa-c378dfb643d3"
      },
      "source": [
        "print(grid_clf.best_params_)\r\n",
        "grid_clf = grid_clf.best_estimator_\r\n",
        "grid_clf.score(X_test, y_test)"
      ],
      "execution_count": 68,
      "outputs": [
        {
          "output_type": "stream",
          "text": [
            "{'criterion': 'entropy', 'max_depth': 3}\n"
          ],
          "name": "stdout"
        },
        {
          "output_type": "execute_result",
          "data": {
            "text/plain": [
              "0.3877551020408163"
            ]
          },
          "metadata": {
            "tags": []
          },
          "execution_count": 68
        }
      ]
    },
    {
      "cell_type": "code",
      "metadata": {
        "colab": {
          "base_uri": "https://localhost:8080/"
        },
        "id": "2LwkGR1fePMF",
        "outputId": "bbd28bb5-9fc5-4d99-815b-1cd0c253be6f"
      },
      "source": [
        "predictions = grid_clf.predict(X_test)\r\n",
        "print(metrics.classification_report(y_test, predictions))"
      ],
      "execution_count": 69,
      "outputs": [
        {
          "output_type": "stream",
          "text": [
            "                       precision    recall  f1-score   support\n",
            "\n",
            "10$-15$(not included)       0.70      0.54      0.61        13\n",
            "15$-20$(not included)       0.30      0.64      0.41        11\n",
            "20$-25$(not included)       0.20      0.20      0.20         5\n",
            "25$-30$(not included)       0.43      0.38      0.40         8\n",
            "30$-35$(not included)       0.00      0.00      0.00         5\n",
            "35$-40$(not included)       0.00      0.00      0.00         1\n",
            "40$-45$(not included)       0.00      0.00      0.00         2\n",
            "         45$ and more       0.00      0.00      0.00         1\n",
            " 5$-10$(not included)       0.33      0.33      0.33         3\n",
            "\n",
            "             accuracy                           0.39        49\n",
            "            macro avg       0.22      0.23      0.22        49\n",
            "         weighted avg       0.36      0.39      0.36        49\n",
            "\n"
          ],
          "name": "stdout"
        },
        {
          "output_type": "stream",
          "text": [
            "/usr/local/lib/python3.6/dist-packages/sklearn/metrics/_classification.py:1272: UndefinedMetricWarning: Precision and F-score are ill-defined and being set to 0.0 in labels with no predicted samples. Use `zero_division` parameter to control this behavior.\n",
            "  _warn_prf(average, modifier, msg_start, len(result))\n"
          ],
          "name": "stderr"
        }
      ]
    },
    {
      "cell_type": "code",
      "metadata": {
        "colab": {
          "base_uri": "https://localhost:8080/",
          "height": 235
        },
        "id": "6V78dfxkfQ1Z",
        "outputId": "2caaaa04-7991-42d4-df08-9ddde0d818cb"
      },
      "source": [
        "grid_clf_features = grid_clf.feature_importances_\r\n",
        "feature_importances = pd.DataFrame({'features': list(X),\r\n",
        "                                   'feature_importances':grid_clf_features })\r\n",
        "feature_importances.sort_values('feature_importances', ascending=False)"
      ],
      "execution_count": 70,
      "outputs": [
        {
          "output_type": "execute_result",
          "data": {
            "text/html": [
              "<div>\n",
              "<style scoped>\n",
              "    .dataframe tbody tr th:only-of-type {\n",
              "        vertical-align: middle;\n",
              "    }\n",
              "\n",
              "    .dataframe tbody tr th {\n",
              "        vertical-align: top;\n",
              "    }\n",
              "\n",
              "    .dataframe thead th {\n",
              "        text-align: right;\n",
              "    }\n",
              "</style>\n",
              "<table border=\"1\" class=\"dataframe\">\n",
              "  <thead>\n",
              "    <tr style=\"text-align: right;\">\n",
              "      <th></th>\n",
              "      <th>features</th>\n",
              "      <th>feature_importances</th>\n",
              "    </tr>\n",
              "  </thead>\n",
              "  <tbody>\n",
              "    <tr>\n",
              "      <th>0</th>\n",
              "      <td>tip</td>\n",
              "      <td>0.557506</td>\n",
              "    </tr>\n",
              "    <tr>\n",
              "      <th>5</th>\n",
              "      <td>size</td>\n",
              "      <td>0.357068</td>\n",
              "    </tr>\n",
              "    <tr>\n",
              "      <th>2</th>\n",
              "      <td>smoker</td>\n",
              "      <td>0.085426</td>\n",
              "    </tr>\n",
              "    <tr>\n",
              "      <th>1</th>\n",
              "      <td>sex_female</td>\n",
              "      <td>0.000000</td>\n",
              "    </tr>\n",
              "    <tr>\n",
              "      <th>3</th>\n",
              "      <td>day</td>\n",
              "      <td>0.000000</td>\n",
              "    </tr>\n",
              "    <tr>\n",
              "      <th>4</th>\n",
              "      <td>time</td>\n",
              "      <td>0.000000</td>\n",
              "    </tr>\n",
              "  </tbody>\n",
              "</table>\n",
              "</div>"
            ],
            "text/plain": [
              "     features  feature_importances\n",
              "0         tip             0.557506\n",
              "5        size             0.357068\n",
              "2      smoker             0.085426\n",
              "1  sex_female             0.000000\n",
              "3         day             0.000000\n",
              "4        time             0.000000"
            ]
          },
          "metadata": {
            "tags": []
          },
          "execution_count": 70
        }
      ]
    },
    {
      "cell_type": "code",
      "metadata": {
        "colab": {
          "base_uri": "https://localhost:8080/",
          "height": 535
        },
        "id": "02LxXS0pf5bb",
        "outputId": "176c6e6c-eaec-40ca-9c8c-eb505ebdf2c4"
      },
      "source": [
        "\r\n",
        "import seaborn as sns\r\n",
        "\r\n",
        "sns.barplot(data=feature_importances, x = 'features', y = 'feature_importances')\r\n",
        "\r\n"
      ],
      "execution_count": 71,
      "outputs": [
        {
          "output_type": "execute_result",
          "data": {
            "text/plain": [
              "<matplotlib.axes._subplots.AxesSubplot at 0x7f4c440e3d30>"
            ]
          },
          "metadata": {
            "tags": []
          },
          "execution_count": 71
        },
        {
          "output_type": "display_data",
          "data": {
            "image/png": "[encoded data removed]",
            "text/plain": [
              "<Figure size 1800x595.44 with 1 Axes>"
            ]
          },
          "metadata": {
            "tags": []
          }
        }
      ]
    },
    {
      "cell_type": "code",
      "metadata": {
        "id": "l9vopV2MhZHg"
      },
      "source": [
        "size_bill = tips[['size', 'total_bill']]"
      ],
      "execution_count": 72,
      "outputs": []
    },
    {
      "cell_type": "code",
      "metadata": {
        "colab": {
          "base_uri": "https://localhost:8080/",
          "height": 534
        },
        "id": "3vxfLTTF0fsZ",
        "outputId": "4e7078fb-8223-4d3f-cc5b-8a94c48541ba"
      },
      "source": [
        "sns.lineplot(data=size_bill, x = 'size', y = 'total_bill')"
      ],
      "execution_count": 73,
      "outputs": [
        {
          "output_type": "execute_result",
          "data": {
            "text/plain": [
              "<matplotlib.axes._subplots.AxesSubplot at 0x7f4c4368c4a8>"
            ]
          },
          "metadata": {
            "tags": []
          },
          "execution_count": 73
        },
        {
          "output_type": "display_data",
          "data": {
            "image/png": "[encoded data removed]",
            "text/plain": [
              "<Figure size 1800x595.44 with 1 Axes>"
            ]
          },
          "metadata": {
            "tags": []
          }
        }
      ]
    },
    {
      "cell_type": "code",
      "metadata": {
        "id": "CGx_ghYV02kT"
      },
      "source": [
        "smoker_bill = tips[['smoker', 'total_bill']]"
      ],
      "execution_count": 74,
      "outputs": []
    },
    {
      "cell_type": "code",
      "metadata": {
        "colab": {
          "base_uri": "https://localhost:8080/",
          "height": 534
        },
        "id": "SgCPYbJP1f1b",
        "outputId": "4b59a0ed-90e9-406f-f91b-7ab83aa42cf2"
      },
      "source": [
        "sns.barplot(data=smoker_bill, x = 'smoker', y = 'total_bill')"
      ],
      "execution_count": 75,
      "outputs": [
        {
          "output_type": "execute_result",
          "data": {
            "text/plain": [
              "<matplotlib.axes._subplots.AxesSubplot at 0x7f4c435f59e8>"
            ]
          },
          "metadata": {
            "tags": []
          },
          "execution_count": 75
        },
        {
          "output_type": "display_data",
          "data": {
            "image/png": "[encoded data removed]",
            "text/plain": [
              "<Figure size 1800x595.44 with 1 Axes>"
            ]
          },
          "metadata": {
            "tags": []
          }
        }
      ]
    },
    {
      "cell_type": "code",
      "metadata": {
        "id": "_6oKIYgd1iHm"
      },
      "source": [
        "X, y = tips.drop(['tip', 'bill', 'tips'], axis=1), tips.tips"
      ],
      "execution_count": 76,
      "outputs": []
    },
    {
      "cell_type": "code",
      "metadata": {
        "id": "HODUg0jU8XXw"
      },
      "source": [
        "X_train, X_test, y_train, y_test = train_test_split(X, y, test_size = 0.2)"
      ],
      "execution_count": 77,
      "outputs": []
    },
    {
      "cell_type": "code",
      "metadata": {
        "colab": {
          "base_uri": "https://localhost:8080/"
        },
        "id": "1dISf4N48cSo",
        "outputId": "8b1eb893-d2e2-4ba8-c1d4-7d9bc5e3cdae"
      },
      "source": [
        "parameters = dict(criterion = ['entropy', 'gini'], max_depth = range(1,42))\r\n",
        "grid_clf = GridSearchCV(clf, parameters, cv=6)\r\n",
        "grid_clf.fit(X_train, y_train)"
      ],
      "execution_count": 78,
      "outputs": [
        {
          "output_type": "execute_result",
          "data": {
            "text/plain": [
              "GridSearchCV(cv=6, error_score=nan,\n",
              "             estimator=DecisionTreeClassifier(ccp_alpha=0.0, class_weight=None,\n",
              "                                              criterion='gini', max_depth=None,\n",
              "                                              max_features=None,\n",
              "                                              max_leaf_nodes=None,\n",
              "                                              min_impurity_decrease=0.0,\n",
              "                                              min_impurity_split=None,\n",
              "                                              min_samples_leaf=1,\n",
              "                                              min_samples_split=2,\n",
              "                                              min_weight_fraction_leaf=0.0,\n",
              "                                              presort='deprecated',\n",
              "                                              random_state=None,\n",
              "                                              splitter='best'),\n",
              "             iid='deprecated', n_jobs=None,\n",
              "             param_grid={'criterion': ['entropy', 'gini'],\n",
              "                         'max_depth': range(1, 42)},\n",
              "             pre_dispatch='2*n_jobs', refit=True, return_train_score=False,\n",
              "             scoring=None, verbose=0)"
            ]
          },
          "metadata": {
            "tags": []
          },
          "execution_count": 78
        }
      ]
    },
    {
      "cell_type": "code",
      "metadata": {
        "colab": {
          "base_uri": "https://localhost:8080/"
        },
        "id": "KztHLZHF8h7Y",
        "outputId": "8b91ca50-d4c5-4d80-b920-a6fc0bf54715"
      },
      "source": [
        "print(grid_clf.best_params_)\r\n",
        "grid_clf = grid_clf.best_estimator_\r\n",
        "grid_clf.score(X_test, y_test)"
      ],
      "execution_count": 79,
      "outputs": [
        {
          "output_type": "stream",
          "text": [
            "{'criterion': 'gini', 'max_depth': 4}\n"
          ],
          "name": "stdout"
        },
        {
          "output_type": "execute_result",
          "data": {
            "text/plain": [
              "0.24489795918367346"
            ]
          },
          "metadata": {
            "tags": []
          },
          "execution_count": 79
        }
      ]
    },
    {
      "cell_type": "code",
      "metadata": {
        "colab": {
          "base_uri": "https://localhost:8080/",
          "height": 235
        },
        "id": "HRm8e7gp8lNL",
        "outputId": "deabff07-bc99-4c96-8759-5923f19d1121"
      },
      "source": [
        "grid_clf_features = grid_clf.feature_importances_\r\n",
        "feature_importances = pd.DataFrame({'features': list(X),\r\n",
        "                                   'feature_importances':grid_clf_features })\r\n",
        "feature_importances.sort_values('feature_importances', ascending=False)"
      ],
      "execution_count": 80,
      "outputs": [
        {
          "output_type": "execute_result",
          "data": {
            "text/html": [
              "<div>\n",
              "<style scoped>\n",
              "    .dataframe tbody tr th:only-of-type {\n",
              "        vertical-align: middle;\n",
              "    }\n",
              "\n",
              "    .dataframe tbody tr th {\n",
              "        vertical-align: top;\n",
              "    }\n",
              "\n",
              "    .dataframe thead th {\n",
              "        text-align: right;\n",
              "    }\n",
              "</style>\n",
              "<table border=\"1\" class=\"dataframe\">\n",
              "  <thead>\n",
              "    <tr style=\"text-align: right;\">\n",
              "      <th></th>\n",
              "      <th>features</th>\n",
              "      <th>feature_importances</th>\n",
              "    </tr>\n",
              "  </thead>\n",
              "  <tbody>\n",
              "    <tr>\n",
              "      <th>0</th>\n",
              "      <td>total_bill</td>\n",
              "      <td>0.716164</td>\n",
              "    </tr>\n",
              "    <tr>\n",
              "      <th>3</th>\n",
              "      <td>day</td>\n",
              "      <td>0.159722</td>\n",
              "    </tr>\n",
              "    <tr>\n",
              "      <th>4</th>\n",
              "      <td>time</td>\n",
              "      <td>0.073342</td>\n",
              "    </tr>\n",
              "    <tr>\n",
              "      <th>2</th>\n",
              "      <td>smoker</td>\n",
              "      <td>0.041262</td>\n",
              "    </tr>\n",
              "    <tr>\n",
              "      <th>5</th>\n",
              "      <td>size</td>\n",
              "      <td>0.009510</td>\n",
              "    </tr>\n",
              "    <tr>\n",
              "      <th>1</th>\n",
              "      <td>sex_female</td>\n",
              "      <td>0.000000</td>\n",
              "    </tr>\n",
              "  </tbody>\n",
              "</table>\n",
              "</div>"
            ],
            "text/plain": [
              "     features  feature_importances\n",
              "0  total_bill             0.716164\n",
              "3         day             0.159722\n",
              "4        time             0.073342\n",
              "2      smoker             0.041262\n",
              "5        size             0.009510\n",
              "1  sex_female             0.000000"
            ]
          },
          "metadata": {
            "tags": []
          },
          "execution_count": 80
        }
      ]
    },
    {
      "cell_type": "code",
      "metadata": {
        "id": "9BYloeNe8sdg"
      },
      "source": [
        "tips_bill = tips[['tips', 'total_bill']]"
      ],
      "execution_count": 81,
      "outputs": []
    },
    {
      "cell_type": "code",
      "metadata": {
        "id": "Gb4ZklDuA-eM"
      },
      "source": [
        "tips_bill = tips_bill.sort_values(['tips'])\r\n"
      ],
      "execution_count": 82,
      "outputs": []
    },
    {
      "cell_type": "code",
      "metadata": {
        "colab": {
          "base_uri": "https://localhost:8080/",
          "height": 520
        },
        "id": "A7TPx2zAGLOQ",
        "outputId": "12a98d6c-210d-4807-92bd-310cca4fba8a"
      },
      "source": [
        "import matplotlib.pyplot as plt\r\n",
        "sns.set(rc={'figure.figsize':(25,8.27)})\r\n",
        "g = sns.lineplot(data=tips_bill, x = 'tips', y = 'total_bill')\r\n",
        "# xticks(np.arange(12), calendar.month_name[1:13], rotation=20)\r\n"
      ],
      "execution_count": 83,
      "outputs": [
        {
          "output_type": "display_data",
          "data": {
            "image/png": "[encoded data removed]",
            "text/plain": [
              "<Figure size 1800x595.44 with 1 Axes>"
            ]
          },
          "metadata": {
            "tags": []
          }
        }
      ]
    },
    {
      "cell_type": "code",
      "metadata": {
        "colab": {
          "base_uri": "https://localhost:8080/"
        },
        "id": "cHKMsPTo9a_J",
        "outputId": "6e4b3660-f163-4daa-a313-71c89d3172d2"
      },
      "source": [
        "day_tips = tips[['tip', 'day']]\r\n",
        "day_tips['day'] = day_tips['day'].replace({0: 'Thursday', 1: 'Friday', 2: 'Saturday', 3: 'Sunday'})\r\n",
        "day_tips = day_tips.groupby(['day']).mean().reset_index()\r\n"
      ],
      "execution_count": 84,
      "outputs": [
        {
          "output_type": "stream",
          "text": [
            "/usr/local/lib/python3.6/dist-packages/ipykernel_launcher.py:2: SettingWithCopyWarning: \n",
            "A value is trying to be set on a copy of a slice from a DataFrame.\n",
            "Try using .loc[row_indexer,col_indexer] = value instead\n",
            "\n",
            "See the caveats in the documentation: https://pandas.pydata.org/pandas-docs/stable/user_guide/indexing.html#returning-a-view-versus-a-copy\n",
            "  \n"
          ],
          "name": "stderr"
        }
      ]
    },
    {
      "cell_type": "code",
      "metadata": {
        "id": "1E50QjTRIRwt"
      },
      "source": [
        "day_tips['day'] = pd.Categorical(day_tips['day'], categories=\r\n",
        "    ['Thursday','Friday','Saturday', 'Sunday'],\r\n",
        "    ordered=True)"
      ],
      "execution_count": 85,
      "outputs": []
    },
    {
      "cell_type": "code",
      "metadata": {
        "id": "wmLx9oE6ImoE"
      },
      "source": [
        ""
      ],
      "execution_count": 85,
      "outputs": []
    },
    {
      "cell_type": "code",
      "metadata": {
        "colab": {
          "base_uri": "https://localhost:8080/",
          "height": 534
        },
        "id": "b1siJR5M_G9B",
        "outputId": "e0f75fc1-68d8-419f-f9a1-cfee196d5774"
      },
      "source": [
        "sns.barplot(data=day_tips, x = 'day', y = 'tip')"
      ],
      "execution_count": 86,
      "outputs": [
        {
          "output_type": "execute_result",
          "data": {
            "text/plain": [
              "<matplotlib.axes._subplots.AxesSubplot at 0x7f4c435fb7b8>"
            ]
          },
          "metadata": {
            "tags": []
          },
          "execution_count": 86
        },
        {
          "output_type": "display_data",
          "data": {
            "image/png": "[encoded data removed]",
            "text/plain": [
              "<Figure size 1800x595.44 with 1 Axes>"
            ]
          },
          "metadata": {
            "tags": []
          }
        }
      ]
    },
    {
      "cell_type": "code",
      "metadata": {
        "colab": {
          "base_uri": "https://localhost:8080/",
          "height": 173
        },
        "id": "48yxQ2nv_Wpi",
        "outputId": "3d393d6c-02ad-46bf-c275-674a537f6990"
      },
      "source": [
        " day_tips\r\n"
      ],
      "execution_count": 87,
      "outputs": [
        {
          "output_type": "execute_result",
          "data": {
            "text/html": [
              "<div>\n",
              "<style scoped>\n",
              "    .dataframe tbody tr th:only-of-type {\n",
              "        vertical-align: middle;\n",
              "    }\n",
              "\n",
              "    .dataframe tbody tr th {\n",
              "        vertical-align: top;\n",
              "    }\n",
              "\n",
              "    .dataframe thead th {\n",
              "        text-align: right;\n",
              "    }\n",
              "</style>\n",
              "<table border=\"1\" class=\"dataframe\">\n",
              "  <thead>\n",
              "    <tr style=\"text-align: right;\">\n",
              "      <th></th>\n",
              "      <th>day</th>\n",
              "      <th>tip</th>\n",
              "    </tr>\n",
              "  </thead>\n",
              "  <tbody>\n",
              "    <tr>\n",
              "      <th>0</th>\n",
              "      <td>Friday</td>\n",
              "      <td>2.734737</td>\n",
              "    </tr>\n",
              "    <tr>\n",
              "      <th>1</th>\n",
              "      <td>Saturday</td>\n",
              "      <td>2.993103</td>\n",
              "    </tr>\n",
              "    <tr>\n",
              "      <th>2</th>\n",
              "      <td>Sunday</td>\n",
              "      <td>3.255132</td>\n",
              "    </tr>\n",
              "    <tr>\n",
              "      <th>3</th>\n",
              "      <td>Thursday</td>\n",
              "      <td>2.771452</td>\n",
              "    </tr>\n",
              "  </tbody>\n",
              "</table>\n",
              "</div>"
            ],
            "text/plain": [
              "        day       tip\n",
              "0    Friday  2.734737\n",
              "1  Saturday  2.993103\n",
              "2    Sunday  3.255132\n",
              "3  Thursday  2.771452"
            ]
          },
          "metadata": {
            "tags": []
          },
          "execution_count": 87
        }
      ]
    },
    {
      "cell_type": "code",
      "metadata": {
        "id": "8J0o0oSE_6nr"
      },
      "source": [
        ""
      ],
      "execution_count": 87,
      "outputs": []
    }
  ]
}